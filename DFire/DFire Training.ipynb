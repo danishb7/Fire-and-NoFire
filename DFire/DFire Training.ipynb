{
 "cells": [
  {
   "cell_type": "code",
   "execution_count": 13,
   "id": "5ab7614f-bfde-4933-9890-9cb5cd928b9d",
   "metadata": {
    "tags": []
   },
   "outputs": [],
   "source": [
    "import os\n",
    "import torch\n",
    "import torch.nn as nn\n",
    "import torch.optim as optim\n",
    "from torchvision import models, transforms\n",
    "from torch.utils.data import Dataset, DataLoader\n",
    "from PIL import Image\n",
    "from sklearn.model_selection import train_test_split\n",
    "from tqdm import tqdm\n",
    "\n"
   ]
  },
  {
   "cell_type": "code",
   "execution_count": 14,
   "id": "b34b4397-a0cf-497c-9ae3-86a6b7569437",
   "metadata": {
    "tags": []
   },
   "outputs": [],
   "source": [
    "# Define custom dataset class\n",
    "class FireDataset(Dataset):\n",
    "    def __init__(self, image_dir, label_dir, transform=None):\n",
    "        self.image_dir = image_dir\n",
    "        self.label_dir = label_dir\n",
    "        self.transform = transform\n",
    "        self.image_files = [f for f in os.listdir(image_dir) if f.endswith('.jpg')]\n",
    "\n",
    "    def __len__(self):\n",
    "        return len(self.image_files)\n",
    "\n",
    "    def __getitem__(self, idx):\n",
    "        image_name = self.image_files[idx]\n",
    "        image_path = os.path.join(self.image_dir, image_name)\n",
    "        label_path = os.path.join(self.label_dir, image_name.replace('.jpg', '.txt'))\n",
    "\n",
    "        # Load image\n",
    "        image = Image.open(image_path).convert('RGB')\n",
    "\n",
    "        # Determine label based on label file content\n",
    "        if os.path.exists(label_path) and os.stat(label_path).st_size > 0:\n",
    "            label = 1  # Fire\n",
    "        else:\n",
    "            label = 0  # No Fire\n",
    "\n",
    "        if self.transform:\n",
    "            image = self.transform(image)\n",
    "\n",
    "        return image, label"
   ]
  },
  {
   "cell_type": "code",
   "execution_count": 15,
   "id": "74b5a853-fdc0-4ea4-97ba-5b829eed340a",
   "metadata": {
    "tags": []
   },
   "outputs": [],
   "source": [
    "# Directories\n",
    "image_dir = '../dfire_train/images'\n",
    "label_dir = '../dfire_train/labels'\n",
    "\n",
    "# Transformations\n",
    "transform = transforms.Compose([\n",
    "    transforms.Resize((224, 224)),\n",
    "    transforms.ToTensor(),\n",
    "    transforms.Normalize(mean=[0.485, 0.456, 0.406], std=[0.229, 0.224, 0.225])\n",
    "])\n",
    "\n",
    "# Create dataset and split into train and validation sets\n",
    "dataset = FireDataset(image_dir, label_dir, transform=transform)\n",
    "train_size = int(0.8 * len(dataset))\n",
    "val_size = len(dataset) - train_size\n",
    "train_dataset, val_dataset = torch.utils.data.random_split(dataset, [train_size, val_size])\n",
    "\n",
    "train_loader = DataLoader(train_dataset, batch_size=16, shuffle=True)\n",
    "val_loader = DataLoader(val_dataset, batch_size=16, shuffle=False)\n"
   ]
  },
  {
   "cell_type": "code",
   "execution_count": 16,
   "id": "d14748c8-5536-4a8e-b33f-a58a779c001d",
   "metadata": {
    "tags": []
   },
   "outputs": [],
   "source": [
    "# Load ResNet50 model\n",
    "device = torch.device('cuda' if torch.cuda.is_available() else 'cpu')\n",
    "model = models.resnet50(pretrained=True)\n",
    "model.fc = nn.Linear(model.fc.in_features, 2)  # Binary classification\n",
    "model = model.to(device)\n",
    "\n",
    "# Loss and optimizer\n",
    "criterion = nn.CrossEntropyLoss()\n",
    "optimizer = optim.Adam(model.parameters(), lr=0.001)\n"
   ]
  },
  {
   "cell_type": "code",
   "execution_count": 17,
   "id": "fdfc9de2-e4f4-457b-8f62-68f1d70fc5e0",
   "metadata": {
    "tags": []
   },
   "outputs": [],
   "source": [
    "# Training function\n",
    "def train_model(model, train_loader, val_loader, criterion, optimizer, num_epochs=20):\n",
    "    for epoch in range(num_epochs):\n",
    "        # Training phase\n",
    "        model.train()\n",
    "        running_loss = 0.0\n",
    "        correct = 0\n",
    "        total = 0\n",
    "        for images, labels in tqdm(train_loader, desc=f\"Epoch {epoch+1}/{num_epochs} - Training\"):\n",
    "            images, labels = images.to(device), labels.to(device)\n",
    "\n",
    "            # Forward pass\n",
    "            outputs = model(images)\n",
    "            loss = criterion(outputs, labels)\n",
    "\n",
    "            # Backward pass\n",
    "            optimizer.zero_grad()\n",
    "            loss.backward()\n",
    "            optimizer.step()\n",
    "\n",
    "            # Update metrics\n",
    "            running_loss += loss.item() * images.size(0)\n",
    "            _, predicted = torch.max(outputs, 1)\n",
    "            total += labels.size(0)\n",
    "            correct += (predicted == labels).sum().item()\n",
    "\n",
    "        train_loss = running_loss / total\n",
    "        train_accuracy = correct / total\n",
    "\n",
    "        # Validation phase\n",
    "        model.eval()\n",
    "        val_loss = 0.0\n",
    "        val_correct = 0\n",
    "        val_total = 0\n",
    "        with torch.no_grad():\n",
    "            for images, labels in tqdm(val_loader, desc=f\"Epoch {epoch+1}/{num_epochs} - Validation\"):\n",
    "                images, labels = images.to(device), labels.to(device)\n",
    "\n",
    "                outputs = model(images)\n",
    "                loss = criterion(outputs, labels)\n",
    "\n",
    "                val_loss += loss.item() * images.size(0)\n",
    "                _, predicted = torch.max(outputs, 1)\n",
    "                val_total += labels.size(0)\n",
    "                val_correct += (predicted == labels).sum().item()\n",
    "\n",
    "        val_loss /= val_total\n",
    "        val_accuracy = val_correct / val_total\n",
    "\n",
    "        # Print metrics\n",
    "        print(f\"Epoch {epoch+1}/{num_epochs}\")\n",
    "        print(f\"Training Loss: {train_loss:.4f}, Training Accuracy: {train_accuracy:.4f}\")\n",
    "        print(f\"Validation Loss: {val_loss:.4f}, Validation Accuracy: {val_accuracy:.4f}\")\n",
    "        print('-' * 50)\n"
   ]
  },
  {
   "cell_type": "code",
   "execution_count": 18,
   "id": "48e724df-f669-4433-b470-d059cf636862",
   "metadata": {
    "scrolled": true,
    "tags": []
   },
   "outputs": [
    {
     "name": "stderr",
     "output_type": "stream",
     "text": [
      "Epoch 1/20 - Training: 100%|██████████| 861/861 [02:12<00:00,  6.52it/s]\n",
      "Epoch 1/20 - Validation: 100%|██████████| 216/216 [00:28<00:00,  7.71it/s]\n"
     ]
    },
    {
     "name": "stdout",
     "output_type": "stream",
     "text": [
      "Epoch 1/20\n",
      "Training Loss: 0.5676, Training Accuracy: 0.7001\n",
      "Validation Loss: 0.5044, Validation Accuracy: 0.7283\n",
      "--------------------------------------------------\n"
     ]
    },
    {
     "name": "stderr",
     "output_type": "stream",
     "text": [
      "Epoch 2/20 - Training: 100%|██████████| 861/861 [02:09<00:00,  6.65it/s]\n",
      "Epoch 2/20 - Validation: 100%|██████████| 216/216 [00:28<00:00,  7.66it/s]\n"
     ]
    },
    {
     "name": "stdout",
     "output_type": "stream",
     "text": [
      "Epoch 2/20\n",
      "Training Loss: 0.4461, Training Accuracy: 0.7922\n",
      "Validation Loss: 0.3774, Validation Accuracy: 0.8418\n",
      "--------------------------------------------------\n"
     ]
    },
    {
     "name": "stderr",
     "output_type": "stream",
     "text": [
      "Epoch 3/20 - Training: 100%|██████████| 861/861 [02:15<00:00,  6.37it/s]\n",
      "Epoch 3/20 - Validation: 100%|██████████| 216/216 [00:31<00:00,  6.84it/s]\n"
     ]
    },
    {
     "name": "stdout",
     "output_type": "stream",
     "text": [
      "Epoch 3/20\n",
      "Training Loss: 0.3758, Training Accuracy: 0.8358\n",
      "Validation Loss: 0.3506, Validation Accuracy: 0.8462\n",
      "--------------------------------------------------\n"
     ]
    },
    {
     "name": "stderr",
     "output_type": "stream",
     "text": [
      "Epoch 4/20 - Training: 100%|██████████| 861/861 [02:03<00:00,  6.95it/s]\n",
      "Epoch 4/20 - Validation: 100%|██████████| 216/216 [00:26<00:00,  8.20it/s]\n"
     ]
    },
    {
     "name": "stdout",
     "output_type": "stream",
     "text": [
      "Epoch 4/20\n",
      "Training Loss: 0.3191, Training Accuracy: 0.8646\n",
      "Validation Loss: 0.3165, Validation Accuracy: 0.8688\n",
      "--------------------------------------------------\n"
     ]
    },
    {
     "name": "stderr",
     "output_type": "stream",
     "text": [
      "Epoch 5/20 - Training: 100%|██████████| 861/861 [02:05<00:00,  6.88it/s]\n",
      "Epoch 5/20 - Validation: 100%|██████████| 216/216 [00:27<00:00,  7.74it/s]\n"
     ]
    },
    {
     "name": "stdout",
     "output_type": "stream",
     "text": [
      "Epoch 5/20\n",
      "Training Loss: 0.2687, Training Accuracy: 0.8903\n",
      "Validation Loss: 0.3027, Validation Accuracy: 0.8790\n",
      "--------------------------------------------------\n"
     ]
    },
    {
     "name": "stderr",
     "output_type": "stream",
     "text": [
      "Epoch 6/20 - Training: 100%|██████████| 861/861 [02:12<00:00,  6.50it/s]\n",
      "Epoch 6/20 - Validation: 100%|██████████| 216/216 [00:31<00:00,  6.88it/s]\n"
     ]
    },
    {
     "name": "stdout",
     "output_type": "stream",
     "text": [
      "Epoch 6/20\n",
      "Training Loss: 0.2417, Training Accuracy: 0.9016\n",
      "Validation Loss: 0.2749, Validation Accuracy: 0.8784\n",
      "--------------------------------------------------\n"
     ]
    },
    {
     "name": "stderr",
     "output_type": "stream",
     "text": [
      "Epoch 7/20 - Training: 100%|██████████| 861/861 [02:11<00:00,  6.54it/s]\n",
      "Epoch 7/20 - Validation: 100%|██████████| 216/216 [00:28<00:00,  7.51it/s]\n"
     ]
    },
    {
     "name": "stdout",
     "output_type": "stream",
     "text": [
      "Epoch 7/20\n",
      "Training Loss: 0.2149, Training Accuracy: 0.9156\n",
      "Validation Loss: 0.2725, Validation Accuracy: 0.8836\n",
      "--------------------------------------------------\n"
     ]
    },
    {
     "name": "stderr",
     "output_type": "stream",
     "text": [
      "Epoch 8/20 - Training: 100%|██████████| 861/861 [02:12<00:00,  6.50it/s]\n",
      "Epoch 8/20 - Validation: 100%|██████████| 216/216 [00:31<00:00,  6.84it/s]\n"
     ]
    },
    {
     "name": "stdout",
     "output_type": "stream",
     "text": [
      "Epoch 8/20\n",
      "Training Loss: 0.1817, Training Accuracy: 0.9302\n",
      "Validation Loss: 0.2266, Validation Accuracy: 0.9057\n",
      "--------------------------------------------------\n"
     ]
    },
    {
     "name": "stderr",
     "output_type": "stream",
     "text": [
      "Epoch 9/20 - Training: 100%|██████████| 861/861 [02:16<00:00,  6.30it/s]\n",
      "Epoch 9/20 - Validation: 100%|██████████| 216/216 [00:28<00:00,  7.47it/s]\n"
     ]
    },
    {
     "name": "stdout",
     "output_type": "stream",
     "text": [
      "Epoch 9/20\n",
      "Training Loss: 0.1577, Training Accuracy: 0.9359\n",
      "Validation Loss: 0.3105, Validation Accuracy: 0.8784\n",
      "--------------------------------------------------\n"
     ]
    },
    {
     "name": "stderr",
     "output_type": "stream",
     "text": [
      "Epoch 10/20 - Training: 100%|██████████| 861/861 [02:19<00:00,  6.18it/s]\n",
      "Epoch 10/20 - Validation: 100%|██████████| 216/216 [00:31<00:00,  6.79it/s]\n"
     ]
    },
    {
     "name": "stdout",
     "output_type": "stream",
     "text": [
      "Epoch 10/20\n",
      "Training Loss: 0.1436, Training Accuracy: 0.9453\n",
      "Validation Loss: 0.2509, Validation Accuracy: 0.9112\n",
      "--------------------------------------------------\n"
     ]
    },
    {
     "name": "stderr",
     "output_type": "stream",
     "text": [
      "Epoch 11/20 - Training: 100%|██████████| 861/861 [02:09<00:00,  6.63it/s]\n",
      "Epoch 11/20 - Validation: 100%|██████████| 216/216 [00:29<00:00,  7.31it/s]\n"
     ]
    },
    {
     "name": "stdout",
     "output_type": "stream",
     "text": [
      "Epoch 11/20\n",
      "Training Loss: 0.1200, Training Accuracy: 0.9554\n",
      "Validation Loss: 0.2324, Validation Accuracy: 0.9170\n",
      "--------------------------------------------------\n"
     ]
    },
    {
     "name": "stderr",
     "output_type": "stream",
     "text": [
      "Epoch 12/20 - Training: 100%|██████████| 861/861 [02:14<00:00,  6.40it/s]\n",
      "Epoch 12/20 - Validation: 100%|██████████| 216/216 [00:32<00:00,  6.64it/s]\n"
     ]
    },
    {
     "name": "stdout",
     "output_type": "stream",
     "text": [
      "Epoch 12/20\n",
      "Training Loss: 0.1090, Training Accuracy: 0.9591\n",
      "Validation Loss: 0.2758, Validation Accuracy: 0.9089\n",
      "--------------------------------------------------\n"
     ]
    },
    {
     "name": "stderr",
     "output_type": "stream",
     "text": [
      "Epoch 13/20 - Training: 100%|██████████| 861/861 [02:12<00:00,  6.50it/s]\n",
      "Epoch 13/20 - Validation: 100%|██████████| 216/216 [00:27<00:00,  7.87it/s]\n"
     ]
    },
    {
     "name": "stdout",
     "output_type": "stream",
     "text": [
      "Epoch 13/20\n",
      "Training Loss: 0.1031, Training Accuracy: 0.9631\n",
      "Validation Loss: 0.2187, Validation Accuracy: 0.9205\n",
      "--------------------------------------------------\n"
     ]
    },
    {
     "name": "stderr",
     "output_type": "stream",
     "text": [
      "Epoch 14/20 - Training: 100%|██████████| 861/861 [02:15<00:00,  6.34it/s]\n",
      "Epoch 14/20 - Validation: 100%|██████████| 216/216 [00:32<00:00,  6.59it/s]\n"
     ]
    },
    {
     "name": "stdout",
     "output_type": "stream",
     "text": [
      "Epoch 14/20\n",
      "Training Loss: 0.0850, Training Accuracy: 0.9675\n",
      "Validation Loss: 0.2922, Validation Accuracy: 0.8999\n",
      "--------------------------------------------------\n"
     ]
    },
    {
     "name": "stderr",
     "output_type": "stream",
     "text": [
      "Epoch 15/20 - Training: 100%|██████████| 861/861 [02:13<00:00,  6.47it/s]\n",
      "Epoch 15/20 - Validation: 100%|██████████| 216/216 [00:28<00:00,  7.59it/s]\n"
     ]
    },
    {
     "name": "stdout",
     "output_type": "stream",
     "text": [
      "Epoch 15/20\n",
      "Training Loss: 0.0813, Training Accuracy: 0.9708\n",
      "Validation Loss: 0.2902, Validation Accuracy: 0.9089\n",
      "--------------------------------------------------\n"
     ]
    },
    {
     "name": "stderr",
     "output_type": "stream",
     "text": [
      "Epoch 16/20 - Training: 100%|██████████| 861/861 [02:10<00:00,  6.61it/s]\n",
      "Epoch 16/20 - Validation: 100%|██████████| 216/216 [00:31<00:00,  6.78it/s]\n"
     ]
    },
    {
     "name": "stdout",
     "output_type": "stream",
     "text": [
      "Epoch 16/20\n",
      "Training Loss: 0.0758, Training Accuracy: 0.9728\n",
      "Validation Loss: 0.3081, Validation Accuracy: 0.9060\n",
      "--------------------------------------------------\n"
     ]
    },
    {
     "name": "stderr",
     "output_type": "stream",
     "text": [
      "Epoch 17/20 - Training: 100%|██████████| 861/861 [02:23<00:00,  6.01it/s]\n",
      "Epoch 17/20 - Validation: 100%|██████████| 216/216 [00:28<00:00,  7.56it/s]\n"
     ]
    },
    {
     "name": "stdout",
     "output_type": "stream",
     "text": [
      "Epoch 17/20\n",
      "Training Loss: 0.0721, Training Accuracy: 0.9756\n",
      "Validation Loss: 0.3445, Validation Accuracy: 0.8888\n",
      "--------------------------------------------------\n"
     ]
    },
    {
     "name": "stderr",
     "output_type": "stream",
     "text": [
      "Epoch 18/20 - Training: 100%|██████████| 861/861 [02:27<00:00,  5.82it/s]\n",
      "Epoch 18/20 - Validation: 100%|██████████| 216/216 [00:32<00:00,  6.58it/s]\n"
     ]
    },
    {
     "name": "stdout",
     "output_type": "stream",
     "text": [
      "Epoch 18/20\n",
      "Training Loss: 0.0671, Training Accuracy: 0.9763\n",
      "Validation Loss: 0.2847, Validation Accuracy: 0.9089\n",
      "--------------------------------------------------\n"
     ]
    },
    {
     "name": "stderr",
     "output_type": "stream",
     "text": [
      "Epoch 19/20 - Training: 100%|██████████| 861/861 [02:06<00:00,  6.80it/s]\n",
      "Epoch 19/20 - Validation: 100%|██████████| 216/216 [00:27<00:00,  7.80it/s]\n"
     ]
    },
    {
     "name": "stdout",
     "output_type": "stream",
     "text": [
      "Epoch 19/20\n",
      "Training Loss: 0.0611, Training Accuracy: 0.9784\n",
      "Validation Loss: 0.2599, Validation Accuracy: 0.9205\n",
      "--------------------------------------------------\n"
     ]
    },
    {
     "name": "stderr",
     "output_type": "stream",
     "text": [
      "Epoch 20/20 - Training: 100%|██████████| 861/861 [02:09<00:00,  6.64it/s]\n",
      "Epoch 20/20 - Validation: 100%|██████████| 216/216 [00:27<00:00,  7.74it/s]"
     ]
    },
    {
     "name": "stdout",
     "output_type": "stream",
     "text": [
      "Epoch 20/20\n",
      "Training Loss: 0.0565, Training Accuracy: 0.9803\n",
      "Validation Loss: 0.2840, Validation Accuracy: 0.9083\n",
      "--------------------------------------------------\n"
     ]
    },
    {
     "name": "stderr",
     "output_type": "stream",
     "text": [
      "\n"
     ]
    }
   ],
   "source": [
    "# Train the model\n",
    "train_model(model, train_loader, val_loader, criterion, optimizer, num_epochs=20)"
   ]
  },
  {
   "cell_type": "code",
   "execution_count": 19,
   "id": "8047584f-7637-4a61-b31c-2094d9d5bd60",
   "metadata": {},
   "outputs": [],
   "source": [
    "# Save the trained model\n",
    "torch.save(model.state_dict(), \"dfire_resnet50.pth\")\n",
    "# print(\"Model saved as 'deepfire_resnet50.pth'\")"
   ]
  }
 ],
 "metadata": {
  "kernelspec": {
   "display_name": "Python 3 (ipykernel)",
   "language": "python",
   "name": "python3"
  },
  "language_info": {
   "codemirror_mode": {
    "name": "ipython",
    "version": 3
   },
   "file_extension": ".py",
   "mimetype": "text/x-python",
   "name": "python",
   "nbconvert_exporter": "python",
   "pygments_lexer": "ipython3",
   "version": "3.11.5"
  }
 },
 "nbformat": 4,
 "nbformat_minor": 5
}
