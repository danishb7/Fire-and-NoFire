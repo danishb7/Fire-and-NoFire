{
 "cells": [
  {
   "cell_type": "code",
   "execution_count": 2,
   "id": "9fdd8d8e-9ab0-4d2f-90c7-dc9e1aba65a0",
   "metadata": {
    "tags": []
   },
   "outputs": [
    {
     "name": "stdout",
     "output_type": "stream",
     "text": [
      "Extracted all files from 'fire.zip' into ''.\n"
     ]
    }
   ],
   "source": [
    "import zipfile\n",
    "import os\n",
    "\n",
    "def extract_files(zip_path):\n",
    "    extract_dir = os.path.dirname(zip_path)\n",
    "\n",
    "    with zipfile.ZipFile(zip_path, 'r') as zip_ref:\n",
    "        zip_ref.extractall(extract_dir)\n",
    "    print(f\"Extracted all files from '{zip_path}' into '{extract_dir}'.\")\n",
    "\n",
    "extract_files(\"fire.zip\")"
   ]
  },
  {
   "cell_type": "code",
   "execution_count": 1,
   "id": "7a456c23-9f14-4dbf-bf0d-713ec25083b3",
   "metadata": {
    "tags": []
   },
   "outputs": [],
   "source": [
    "import os\n",
    "import torch\n",
    "from torchvision import datasets, transforms, models\n",
    "from torch.utils.data import DataLoader, random_split\n",
    "\n"
   ]
  },
  {
   "cell_type": "code",
   "execution_count": 2,
   "id": "bb9f4df5-fffc-4599-8f75-9caf4231a771",
   "metadata": {
    "tags": []
   },
   "outputs": [],
   "source": [
    "# Define transformations for the images\n",
    "data_transforms = {\n",
    "    'train': transforms.Compose([\n",
    "        transforms.Resize((224, 224)),\n",
    "        transforms.RandomHorizontalFlip(),\n",
    "        transforms.ToTensor(),\n",
    "        transforms.Normalize([0.485, 0.456, 0.406], [0.229, 0.224, 0.225])\n",
    "    ]),\n",
    "    'val': transforms.Compose([\n",
    "        transforms.Resize((224, 224)),\n",
    "        transforms.ToTensor(),\n",
    "        transforms.Normalize([0.485, 0.456, 0.406], [0.229, 0.224, 0.225])\n",
    "    ]),\n",
    "    'test': transforms.Compose([\n",
    "        transforms.Resize((224, 224)),\n",
    "        transforms.ToTensor(),\n",
    "        transforms.Normalize([0.485, 0.456, 0.406], [0.229, 0.224, 0.225])\n",
    "    ])\n",
    "}\n",
    "\n"
   ]
  },
  {
   "cell_type": "code",
   "execution_count": 3,
   "id": "f03c93db-a21e-42f3-a7c9-d60064f4674a",
   "metadata": {
    "tags": []
   },
   "outputs": [],
   "source": [
    "# Define dataset directory\n",
    "dataset_dir = 'dataset_train'  # Current working directory where 'fire' and 'nofire' folders exist\n",
    "\n",
    "# Load the dataset\n",
    "dataset = datasets.ImageFolder(root=dataset_dir, transform=data_transforms['train'])\n",
    "\n",
    "# Calculate dataset sizes for splits\n",
    "total_size = len(dataset)\n",
    "train_size = int(0.6 * total_size)\n",
    "val_size = int(0.2 * total_size)\n",
    "test_size = total_size - train_size - val_size\n",
    "\n",
    "# Split the dataset\n",
    "train_dataset, val_dataset, test_dataset = random_split(dataset, [train_size, val_size, test_size])\n",
    "\n",
    "# Apply appropriate transforms to validation and test datasets\n",
    "val_dataset.dataset.transform = data_transforms['val']\n",
    "test_dataset.dataset.transform = data_transforms['test']\n",
    "\n",
    "# Create dataloaders\n",
    "batch_size = 16\n",
    "# train_loader = DataLoader(train_dataset, batch_size=batch_size, shuffle=True)\n",
    "# val_loader = DataLoader(val_dataset, batch_size=batch_size, shuffle=False)\n",
    "# test_loader = DataLoader(test_dataset, batch_size=batch_size, shuffle=False)\n",
    "\n",
    "dataloaders = {\n",
    "    'train': DataLoader(train_dataset, batch_size=batch_size, shuffle=True),\n",
    "    'val': DataLoader(val_dataset, batch_size=batch_size, shuffle=False),\n",
    "    'test': DataLoader(test_dataset, batch_size=batch_size, shuffle=False),\n",
    "}"
   ]
  },
  {
   "cell_type": "code",
   "execution_count": 4,
   "id": "ec8121af-cfea-4ba4-9f2f-f27e8b512f95",
   "metadata": {
    "tags": []
   },
   "outputs": [
    {
     "name": "stderr",
     "output_type": "stream",
     "text": [
      "/home/dbhatka/.local/lib/python3.11/site-packages/torchvision/models/_utils.py:208: UserWarning: The parameter 'pretrained' is deprecated since 0.13 and may be removed in the future, please use 'weights' instead.\n",
      "  warnings.warn(\n",
      "/home/dbhatka/.local/lib/python3.11/site-packages/torchvision/models/_utils.py:223: UserWarning: Arguments other than a weight enum or `None` for 'weights' are deprecated since 0.13 and may be removed in the future. The current behavior is equivalent to passing `weights=None`.\n",
      "  warnings.warn(msg)\n"
     ]
    }
   ],
   "source": [
    "# Load ResNet50 model\n",
    "device = torch.device(\"cuda\" if torch.cuda.is_available() else \"cpu\")\n",
    "model = models.resnet50(pretrained=False)\n",
    "num_features = model.fc.in_features\n",
    "model.fc = torch.nn.Linear(num_features, 2)  # Binary classification\n",
    "model = model.to(device)\n",
    "\n",
    "# Define loss and optimizer\n",
    "criterion = torch.nn.CrossEntropyLoss()\n",
    "optimizer = torch.optim.Adam(model.parameters(), lr=0.001)\n",
    "\n"
   ]
  },
  {
   "cell_type": "code",
   "execution_count": 6,
   "id": "10c6ec83-579f-43f3-882e-00eb92d750b8",
   "metadata": {
    "scrolled": true,
    "tags": []
   },
   "outputs": [
    {
     "name": "stdout",
     "output_type": "stream",
     "text": [
      "Epoch 1/20\n",
      "Train Loss: 0.0003, Train Accuracy: 0.9999\n",
      "Val Loss: 0.0004, Val Accuracy: 0.9999\n",
      "Epoch 2/20\n",
      "Train Loss: 0.0045, Train Accuracy: 0.9988\n",
      "Val Loss: 0.0002, Val Accuracy: 1.0000\n",
      "Epoch 3/20\n",
      "Train Loss: 0.0003, Train Accuracy: 0.9999\n",
      "Val Loss: 0.0001, Val Accuracy: 1.0000\n",
      "Epoch 4/20\n",
      "Train Loss: 0.0018, Train Accuracy: 0.9997\n",
      "Val Loss: 0.0000, Val Accuracy: 1.0000\n",
      "Epoch 5/20\n",
      "Train Loss: 0.0009, Train Accuracy: 0.9997\n",
      "Val Loss: 0.0000, Val Accuracy: 1.0000\n",
      "Epoch 6/20\n",
      "Train Loss: 0.0020, Train Accuracy: 0.9996\n",
      "Val Loss: 0.0002, Val Accuracy: 0.9999\n",
      "Epoch 7/20\n",
      "Train Loss: 0.0024, Train Accuracy: 0.9995\n",
      "Val Loss: 0.0000, Val Accuracy: 1.0000\n",
      "Epoch 8/20\n",
      "Train Loss: 0.0030, Train Accuracy: 0.9995\n",
      "Val Loss: 0.0000, Val Accuracy: 1.0000\n",
      "Epoch 9/20\n",
      "Train Loss: 0.0003, Train Accuracy: 0.9999\n",
      "Val Loss: 0.0000, Val Accuracy: 1.0000\n",
      "Epoch 10/20\n",
      "Train Loss: 0.0006, Train Accuracy: 0.9999\n",
      "Val Loss: 0.0000, Val Accuracy: 1.0000\n",
      "Epoch 11/20\n",
      "Train Loss: 0.0025, Train Accuracy: 0.9994\n",
      "Val Loss: 0.0000, Val Accuracy: 1.0000\n",
      "Epoch 12/20\n",
      "Train Loss: 0.0006, Train Accuracy: 1.0000\n",
      "Val Loss: 0.0000, Val Accuracy: 1.0000\n",
      "Epoch 13/20\n",
      "Train Loss: 0.0001, Train Accuracy: 0.9999\n",
      "Val Loss: 0.0000, Val Accuracy: 1.0000\n",
      "Epoch 14/20\n",
      "Train Loss: 0.0028, Train Accuracy: 0.9995\n",
      "Val Loss: 0.0001, Val Accuracy: 1.0000\n",
      "Epoch 15/20\n",
      "Train Loss: 0.0000, Train Accuracy: 1.0000\n",
      "Val Loss: 0.0000, Val Accuracy: 1.0000\n",
      "Epoch 16/20\n",
      "Train Loss: 0.0001, Train Accuracy: 1.0000\n",
      "Val Loss: 0.0000, Val Accuracy: 1.0000\n",
      "Epoch 17/20\n",
      "Train Loss: 0.0044, Train Accuracy: 0.9996\n",
      "Val Loss: 0.0000, Val Accuracy: 1.0000\n",
      "Epoch 18/20\n",
      "Train Loss: 0.0001, Train Accuracy: 1.0000\n",
      "Val Loss: 0.0000, Val Accuracy: 1.0000\n",
      "Epoch 19/20\n",
      "Train Loss: 0.0010, Train Accuracy: 0.9998\n",
      "Val Loss: 0.0000, Val Accuracy: 1.0000\n",
      "Epoch 20/20\n",
      "Train Loss: 0.0021, Train Accuracy: 0.9995\n",
      "Val Loss: 0.0000, Val Accuracy: 1.0000\n"
     ]
    }
   ],
   "source": [
    "# Training loop\n",
    "def train_model(model, dataloaders, criterion, optimizer, num_epochs=20):\n",
    "    for epoch in range(num_epochs):\n",
    "        print(f\"Epoch {epoch + 1}/{num_epochs}\")\n",
    "        # print('-' * 20)\n",
    "\n",
    "        # Training phase\n",
    "        model.train()\n",
    "        train_loss = 0.0\n",
    "        train_corrects = 0\n",
    "        for inputs, labels in dataloaders['train']:\n",
    "            inputs, labels = inputs.to(device), labels.to(device)\n",
    "            optimizer.zero_grad()\n",
    "            outputs = model(inputs)\n",
    "            loss = criterion(outputs, labels)\n",
    "            loss.backward()\n",
    "            optimizer.step()\n",
    "\n",
    "            train_loss += loss.item() * inputs.size(0)\n",
    "            _, preds = torch.max(outputs, 1)\n",
    "            train_corrects += torch.sum(preds == labels.data)\n",
    "\n",
    "        train_loss /= len(dataloaders['train'].dataset)\n",
    "        train_accuracy = train_corrects.double() / len(dataloaders['train'].dataset)\n",
    "        print(f\"Train Loss: {train_loss:.4f}, Train Accuracy: {train_accuracy:.4f}\")\n",
    "\n",
    "        # Validation phase\n",
    "        model.eval()\n",
    "        val_loss = 0.0\n",
    "        val_corrects = 0\n",
    "        with torch.no_grad():\n",
    "            for inputs, labels in dataloaders['val']:\n",
    "                inputs, labels = inputs.to(device), labels.to(device)\n",
    "                outputs = model(inputs)\n",
    "                loss = criterion(outputs, labels)\n",
    "\n",
    "                val_loss += loss.item() * inputs.size(0)\n",
    "                _, preds = torch.max(outputs, 1)\n",
    "                val_corrects += torch.sum(preds == labels.data)\n",
    "\n",
    "        val_loss /= len(dataloaders['val'].dataset)\n",
    "        val_accuracy = val_corrects.double() / len(dataloaders['val'].dataset)\n",
    "        print(f\"Val Loss: {val_loss:.4f}, Val Accuracy: {val_accuracy:.4f}\")\n",
    "\n",
    "    return model\n",
    "\n",
    "\n",
    "# # Prepare dataloaders for training\n",
    "# dataloaders = {\n",
    "#     'train': train_loader,\n",
    "#     'val': val_loader\n",
    "# }\n",
    "\n",
    "\n",
    "# Train the model\n",
    "trained_model = train_model(model, dataloaders, criterion, optimizer, num_epochs=20)"
   ]
  },
  {
   "cell_type": "code",
   "execution_count": 7,
   "id": "15eceac1-7165-49c7-b1f5-2a47f2af10a5",
   "metadata": {
    "tags": []
   },
   "outputs": [
    {
     "name": "stdout",
     "output_type": "stream",
     "text": [
      "Testing the model...\n",
      "Test Accuracy: 1.0000\n"
     ]
    }
   ],
   "source": [
    "# Test loop\n",
    "def test_model(model, dataloader):\n",
    "    model.eval()\n",
    "    test_corrects = 0\n",
    "    with torch.no_grad():\n",
    "        for inputs, labels in dataloader:\n",
    "            inputs, labels = inputs.to(device), labels.to(device)\n",
    "            outputs = model(inputs)\n",
    "            _, preds = torch.max(outputs, 1)\n",
    "            test_corrects += torch.sum(preds == labels.data)\n",
    "\n",
    "    test_accuracy = test_corrects.double() / len(dataloader.dataset)\n",
    "    print(f\"Test Accuracy: {test_accuracy:.4f}\")\n",
    "\n",
    "\n",
    "# Evaluate on test set\n",
    "print(\"Testing the model...\")\n",
    "test_model(trained_model, dataloaders['test'])\n"
   ]
  },
  {
   "cell_type": "code",
   "execution_count": 8,
   "id": "ded6c958-7520-4524-ba75-6153faaba8ae",
   "metadata": {},
   "outputs": [
    {
     "name": "stdout",
     "output_type": "stream",
     "text": [
      "Model saved to flame2resnet2.pth\n"
     ]
    }
   ],
   "source": [
    "# for saving the model\n",
    "model_save_path = \"flame2resnet2.pth\"\n",
    "torch.save(trained_model.state_dict(), model_save_path)\n",
    "print(f\"Model saved to {model_save_path}\")\n"
   ]
  },
  {
   "cell_type": "code",
   "execution_count": null,
   "id": "7fae70a9-394e-47d1-946a-afd375f17c8f",
   "metadata": {},
   "outputs": [],
   "source": [
    "# for loading the model\n",
    "from torchvision import models\n",
    "\n",
    "# Initialize the ResNet50 model\n",
    "model = models.resnet50(pretrained=False)\n",
    "num_ftrs = model.fc.in_features\n",
    "model.fc = torch.nn.Linear(num_ftrs, 2)  # Assuming binary classification (fire vs nofire)\n",
    "\n",
    "model_load_path = \"flame2resnet.pth\"\n",
    "model.load_state_dict(torch.load(model_load_path))\n",
    "model.eval()\n",
    "# model = model.to(device)"
   ]
  }
 ],
 "metadata": {
  "kernelspec": {
   "display_name": "Python 3 (ipykernel)",
   "language": "python",
   "name": "python3"
  },
  "language_info": {
   "codemirror_mode": {
    "name": "ipython",
    "version": 3
   },
   "file_extension": ".py",
   "mimetype": "text/x-python",
   "name": "python",
   "nbconvert_exporter": "python",
   "pygments_lexer": "ipython3",
   "version": "3.11.5"
  }
 },
 "nbformat": 4,
 "nbformat_minor": 5
}
