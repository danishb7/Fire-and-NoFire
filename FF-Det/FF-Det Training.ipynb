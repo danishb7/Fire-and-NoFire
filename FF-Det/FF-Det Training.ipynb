{
 "cells": [
  {
   "cell_type": "code",
   "execution_count": 7,
   "id": "b6444182-18f9-4b21-a88b-fde8ffa657ab",
   "metadata": {
    "tags": []
   },
   "outputs": [],
   "source": [
    "import torch\n",
    "from torch import nn, optim\n",
    "from torchvision import datasets, transforms, models\n",
    "from torch.utils.data import DataLoader, random_split\n",
    "from sklearn.metrics import accuracy_score\n"
   ]
  },
  {
   "cell_type": "code",
   "execution_count": 12,
   "id": "06ff43ca-04e0-45ec-a236-4ea791b8db42",
   "metadata": {
    "tags": []
   },
   "outputs": [
    {
     "name": "stdout",
     "output_type": "stream",
     "text": [
      "Removing: ../FF-Det/Testing/.ipynb_checkpoints\n",
      "Removing: ../FF-Det/Testing/fire/.ipynb_checkpoints\n",
      "Removing: ../FF-Det/Testing/nofire/.ipynb_checkpoints\n"
     ]
    }
   ],
   "source": [
    "import os\n",
    "import shutil\n",
    "\n",
    "data_dir = \"../FF-Det/Testing\"\n",
    "for root, dirs, files in os.walk(data_dir):\n",
    "    for dir_name in dirs:\n",
    "        if dir_name == \".ipynb_checkpoints\":\n",
    "            dir_path = os.path.join(root, dir_name)\n",
    "            print(f\"Removing: {dir_path}\")\n",
    "            shutil.rmtree(dir_path)  # Deletes the directory and its contents"
   ]
  },
  {
   "cell_type": "code",
   "execution_count": 13,
   "id": "32504fbf-4cb0-4c40-9860-8ea0f5509338",
   "metadata": {
    "tags": []
   },
   "outputs": [],
   "source": [
    "# Device configuration\n",
    "device = torch.device(\"cuda\" if torch.cuda.is_available() else \"cpu\")\n",
    "\n",
    "# Directories\n",
    "data_dir = \"../FF-Det/Testing\"  # Set this to the parent directory of 'fire' and 'no_fire'\n",
    "\n",
    "# Transforms\n",
    "transform = transforms.Compose([\n",
    "    transforms.Resize((224, 224)),  # ResNet50 expects 224x224 images\n",
    "    transforms.ToTensor(),\n",
    "    transforms.Normalize(mean=[0.485, 0.456, 0.406], std=[0.229, 0.224, 0.225])\n",
    "])\n",
    "\n",
    "def is_valid_file(path):\n",
    "    valid_extensions = (\".jpg\", \".jpeg\", \".png\", \".bmp\", \".tiff\", \".webp\")\n",
    "    return path.endswith(valid_extensions)\n",
    "\n",
    "# for root, dirs, files in os.walk(data_dir):\n",
    "#     print(f\"Directory: {root}\")\n",
    "#     print(f\"Subdirectories: {dirs}\")\n",
    "#     print(f\"Files: {files}\")\n",
    "\n",
    "# Create dataset using ImageFolder\n",
    "# dataset = datasets.ImageFolder(root=data_dir, transform=transform, is_valid_file=is_valid_file)\n",
    "\n",
    "# # Dataset\n",
    "dataset = datasets.ImageFolder(root=data_dir, transform=transform)\n",
    "\n"
   ]
  },
  {
   "cell_type": "code",
   "execution_count": 14,
   "id": "26b84368-a909-4f14-b0e7-b6580f0f8983",
   "metadata": {
    "tags": []
   },
   "outputs": [],
   "source": [
    "# Split the dataset into training (75%) and validation (25%)\n",
    "train_size = int(0.75 * len(dataset))\n",
    "val_size = len(dataset) - train_size\n",
    "train_dataset, val_dataset = random_split(dataset, [train_size, val_size])\n",
    "\n",
    "# DataLoaders\n",
    "batch_size = 16\n",
    "train_loader = DataLoader(train_dataset, batch_size=batch_size, shuffle=True)\n",
    "val_loader = DataLoader(val_dataset, batch_size=batch_size, shuffle=False)\n",
    "\n"
   ]
  },
  {
   "cell_type": "code",
   "execution_count": 15,
   "id": "f9e7105c-d24f-484b-859a-54bca7be7d27",
   "metadata": {
    "tags": []
   },
   "outputs": [
    {
     "name": "stderr",
     "output_type": "stream",
     "text": [
      "/home/dbhatka/.local/lib/python3.11/site-packages/torchvision/models/_utils.py:208: UserWarning: The parameter 'pretrained' is deprecated since 0.13 and may be removed in the future, please use 'weights' instead.\n",
      "  warnings.warn(\n",
      "/home/dbhatka/.local/lib/python3.11/site-packages/torchvision/models/_utils.py:223: UserWarning: Arguments other than a weight enum or `None` for 'weights' are deprecated since 0.13 and may be removed in the future. The current behavior is equivalent to passing `weights=ResNet50_Weights.IMAGENET1K_V1`. You can also use `weights=ResNet50_Weights.DEFAULT` to get the most up-to-date weights.\n",
      "  warnings.warn(msg)\n"
     ]
    }
   ],
   "source": [
    "# Model\n",
    "model = models.resnet50(pretrained=True)\n",
    "num_features = model.fc.in_features\n",
    "model.fc = nn.Linear(num_features, 2)  # Adjust for binary classification\n",
    "model = model.to(device)\n",
    "\n",
    "# Loss and optimizer\n",
    "criterion = nn.CrossEntropyLoss()\n",
    "optimizer = optim.Adam(model.parameters(), lr=0.001)\n",
    "\n"
   ]
  },
  {
   "cell_type": "code",
   "execution_count": 17,
   "id": "28707269-c955-41bd-810c-c432e467662f",
   "metadata": {
    "scrolled": true,
    "tags": []
   },
   "outputs": [
    {
     "name": "stdout",
     "output_type": "stream",
     "text": [
      "Epoch [1/20]\n",
      "Training Loss: 0.0703, Training Accuracy: 0.9789\n",
      "Validation Loss: 0.1163, Validation Accuracy: 0.9789\n",
      "------------------------------\n",
      "Epoch [2/20]\n",
      "Training Loss: 0.0511, Training Accuracy: 0.9825\n",
      "Validation Loss: 0.1587, Validation Accuracy: 0.9368\n",
      "------------------------------\n",
      "Epoch [3/20]\n",
      "Training Loss: 0.1272, Training Accuracy: 0.9579\n",
      "Validation Loss: 0.2108, Validation Accuracy: 0.9684\n",
      "------------------------------\n",
      "Epoch [4/20]\n",
      "Training Loss: 0.1522, Training Accuracy: 0.9544\n",
      "Validation Loss: 0.0764, Validation Accuracy: 0.9684\n",
      "------------------------------\n",
      "Epoch [5/20]\n",
      "Training Loss: 0.2057, Training Accuracy: 0.9404\n",
      "Validation Loss: 0.1395, Validation Accuracy: 0.9474\n",
      "------------------------------\n",
      "Epoch [6/20]\n",
      "Training Loss: 0.2352, Training Accuracy: 0.9228\n",
      "Validation Loss: 0.3169, Validation Accuracy: 0.8842\n",
      "------------------------------\n",
      "Epoch [7/20]\n",
      "Training Loss: 0.0951, Training Accuracy: 0.9789\n",
      "Validation Loss: 0.0643, Validation Accuracy: 0.9789\n",
      "------------------------------\n",
      "Epoch [8/20]\n",
      "Training Loss: 0.0728, Training Accuracy: 0.9754\n",
      "Validation Loss: 0.0539, Validation Accuracy: 0.9789\n",
      "------------------------------\n",
      "Epoch [9/20]\n",
      "Training Loss: 0.0812, Training Accuracy: 0.9614\n",
      "Validation Loss: 0.1740, Validation Accuracy: 0.9579\n",
      "------------------------------\n",
      "Epoch [10/20]\n",
      "Training Loss: 0.0715, Training Accuracy: 0.9754\n",
      "Validation Loss: 0.0590, Validation Accuracy: 0.9895\n",
      "------------------------------\n",
      "Epoch [11/20]\n",
      "Training Loss: 0.0438, Training Accuracy: 0.9825\n",
      "Validation Loss: 0.0251, Validation Accuracy: 0.9895\n",
      "------------------------------\n",
      "Epoch [12/20]\n",
      "Training Loss: 0.0594, Training Accuracy: 0.9719\n",
      "Validation Loss: 0.0500, Validation Accuracy: 0.9895\n",
      "------------------------------\n",
      "Epoch [13/20]\n",
      "Training Loss: 0.0912, Training Accuracy: 0.9684\n",
      "Validation Loss: 0.1820, Validation Accuracy: 0.9684\n",
      "------------------------------\n",
      "Epoch [14/20]\n",
      "Training Loss: 0.0480, Training Accuracy: 0.9825\n",
      "Validation Loss: 0.0949, Validation Accuracy: 0.9789\n",
      "------------------------------\n",
      "Epoch [15/20]\n",
      "Training Loss: 0.1031, Training Accuracy: 0.9684\n",
      "Validation Loss: 0.0473, Validation Accuracy: 0.9895\n",
      "------------------------------\n",
      "Epoch [16/20]\n",
      "Training Loss: 0.0766, Training Accuracy: 0.9719\n",
      "Validation Loss: 0.0285, Validation Accuracy: 0.9895\n",
      "------------------------------\n",
      "Epoch [17/20]\n",
      "Training Loss: 0.0411, Training Accuracy: 0.9825\n",
      "Validation Loss: 0.0403, Validation Accuracy: 0.9895\n",
      "------------------------------\n",
      "Epoch [18/20]\n",
      "Training Loss: 0.0124, Training Accuracy: 1.0000\n",
      "Validation Loss: 0.0514, Validation Accuracy: 0.9684\n",
      "------------------------------\n",
      "Epoch [19/20]\n",
      "Training Loss: 0.0174, Training Accuracy: 0.9965\n",
      "Validation Loss: 0.0528, Validation Accuracy: 0.9895\n",
      "------------------------------\n",
      "Epoch [20/20]\n",
      "Training Loss: 0.0192, Training Accuracy: 0.9930\n",
      "Validation Loss: 0.0505, Validation Accuracy: 0.9789\n",
      "------------------------------\n"
     ]
    }
   ],
   "source": [
    "# Training function\n",
    "def train_model(model, train_loader, val_loader, criterion, optimizer, num_epochs=20):\n",
    "    for epoch in range(num_epochs):\n",
    "        # Training phase\n",
    "        model.train()\n",
    "        train_loss, correct_train = 0.0, 0\n",
    "        for images, labels in train_loader:\n",
    "            images, labels = images.to(device), labels.to(device)\n",
    "            \n",
    "            optimizer.zero_grad()\n",
    "            outputs = model(images)\n",
    "            loss = criterion(outputs, labels)\n",
    "            loss.backward()\n",
    "            optimizer.step()\n",
    "            \n",
    "            train_loss += loss.item() * images.size(0)\n",
    "            _, preds = torch.max(outputs, 1)\n",
    "            correct_train += torch.sum(preds == labels).item()\n",
    "        \n",
    "        train_loss /= len(train_loader.dataset)\n",
    "        train_acc = correct_train / len(train_loader.dataset)\n",
    "\n",
    "        # Validation phase\n",
    "        model.eval()\n",
    "        val_loss, correct_val = 0.0, 0\n",
    "        with torch.no_grad():\n",
    "            for images, labels in val_loader:\n",
    "                images, labels = images.to(device), labels.to(device)\n",
    "                outputs = model(images)\n",
    "                loss = criterion(outputs, labels)\n",
    "                \n",
    "                val_loss += loss.item() * images.size(0)\n",
    "                _, preds = torch.max(outputs, 1)\n",
    "                correct_val += torch.sum(preds == labels).item()\n",
    "        \n",
    "        val_loss /= len(val_loader.dataset)\n",
    "        val_acc = correct_val / len(val_loader.dataset)\n",
    "\n",
    "        # Print metrics\n",
    "        print(f\"Epoch [{epoch+1}/{num_epochs}]\")\n",
    "        print(f\"Training Loss: {train_loss:.4f}, Training Accuracy: {train_acc:.4f}\")\n",
    "        print(f\"Validation Loss: {val_loss:.4f}, Validation Accuracy: {val_acc:.4f}\")\n",
    "        print(\"-\" * 30)\n",
    "\n",
    "# Train the model\n",
    "train_model(model, train_loader, val_loader, criterion, optimizer, num_epochs=20)"
   ]
  },
  {
   "cell_type": "code",
   "execution_count": 18,
   "id": "b76bf24d-d211-47dc-9762-193370e9618a",
   "metadata": {
    "tags": []
   },
   "outputs": [],
   "source": [
    "# Save the trained model\n",
    "torch.save(model.state_dict(), \"ff-det_resnet50.pth\")\n",
    "# print(\"Model saved as 'deepfire_resnet50.pth'\")"
   ]
  },
  {
   "cell_type": "code",
   "execution_count": null,
   "id": "610027f5-22ab-4794-a135-d5a0da079c55",
   "metadata": {},
   "outputs": [],
   "source": []
  }
 ],
 "metadata": {
  "kernelspec": {
   "display_name": "Python 3 (ipykernel)",
   "language": "python",
   "name": "python3"
  },
  "language_info": {
   "codemirror_mode": {
    "name": "ipython",
    "version": 3
   },
   "file_extension": ".py",
   "mimetype": "text/x-python",
   "name": "python",
   "nbconvert_exporter": "python",
   "pygments_lexer": "ipython3",
   "version": "3.11.5"
  }
 },
 "nbformat": 4,
 "nbformat_minor": 5
}
